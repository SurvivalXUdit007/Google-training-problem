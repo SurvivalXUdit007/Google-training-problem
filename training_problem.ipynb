{
  "nbformat": 4,
  "nbformat_minor": 0,
  "metadata": {
    "colab": {
      "name": "training_problem.ipynb",
      "provenance": []
    },
    "kernelspec": {
      "name": "python3",
      "display_name": "Python 3"
    },
    "language_info": {
      "name": "python"
    }
  },
  "cells": [
    {
      "cell_type": "markdown",
      "metadata": {
        "id": "a_GflHtDGllX"
      },
      "source": [
        "# ***Good morning***"
      ]
    },
    {
      "cell_type": "markdown",
      "metadata": {
        "id": "W88ZiFXkGpxu"
      },
      "source": [
        "# Welcome to the training program created by group 2:\n",
        "\n",
        "**Aman // Udit // Santosh // Gowtham // Muddi**"
      ]
    },
    {
      "cell_type": "markdown",
      "metadata": {
        "id": "qp3yjmAoG-Sv"
      },
      "source": [
        "# ***Problem :***\n",
        "\n",
        "As the football coach at your local school, you have been tasked with picking a team of exactly P students to represent your school. There are N students for you to pick from. The i-th student has a skill ratingSi, which is a positive integer indicating how skilled they are.\n",
        "\n",
        "You have decided that a team is fair if it has exactly P students on it and they all have the same skill rating. That way, everyone plays as a team. Initially, it might not be possible to pick a fair team, so you will give some of the students one-on-one coaching. It takes one hour of coaching to increase the skill rating of any student by 1.\n",
        "\n",
        "The competition season is starting very soon (in fact, the first match has already started!), so you'd like to find the minimum number of hours of coaching you need to give before you are able to pick a fair team.\n",
        "\n",
        "Input:\n",
        "\n",
        "The first line of the input gives the number of test cases, T. T test cases follow. Each test case starts with a line containing the two integers N and P, the number of students and the number of students you need to pick, respectively. Then, another line follows containing Nintegers Si; the i-th of these is the skill of the i-th student.\n",
        "\n",
        "Output:\n",
        "\n",
        "For each test case, output one line containing Case #x: y, where x is the test case number (starting from 1) and y is the minimum number of hours of coaching needed, before you can pick a fair team of Pstudents.\n",
        "\n",
        "Constraints:\n",
        "\n",
        "Time limit: 15 seconds per test set.\n",
        "\n",
        "Memory limit: 1 GB.\n",
        "\n",
        "1 ≤ T ≤ 100.\n",
        "\n",
        "1 ≤ Si ≤ 10000, for all i.\n",
        "\n",
        "2 ≤ P ≤ N.\n",
        "\n",
        "Test set 1 (Visible)\n",
        "\n",
        "2 ≤ N ≤ 1000.\n",
        "\n",
        "Test set 2 (Hidden)\n",
        "\n",
        "2 ≤ N ≤ 105.\n",
        "\n",
        "Sample\n",
        "Input :\n",
        "\n",
        "3\n",
        "4 3\n",
        "3 1 9 100\n",
        "6 2\n",
        "5 5 1 2 3 4\n",
        "5 5\n",
        "7 7 1 7 7\n",
        "\n",
        "Output :\n",
        "\n",
        "Case #1: 14\n",
        "Case #2: 0\n",
        "Case #3: 6\n",
        "\n",
        "  \n",
        "In Sample Case #1, you can spend a total of 6 hours training the first student and 8 hours training the second one. This gives the first, second and third students a skill level of 9. This is the minimum time you can spend, so the answer is 14.\n",
        "\n",
        "In Sample Case #2, you can already pick a fair team (the first and second student) without having to do any coaching, so the answer is 0.\n",
        "\n",
        "In Sample Case #3, P = N, so every student will be on your team. You have to spend 6 hours training the third student, so that they have a skill of 7, like everyone else. This is the minimum time you can spend, so the answer is 6."
      ]
    },
    {
      "cell_type": "markdown",
      "metadata": {
        "id": "3O8THImBHP71"
      },
      "source": [
        "# ***Solution***"
      ]
    },
    {
      "cell_type": "code",
      "metadata": {
        "colab": {
          "base_uri": "https://localhost:8080/"
        },
        "id": "2xjNV_ffHTFl",
        "outputId": "5e2f4561-ae2a-4e93-dd5d-e3709a1e73dd"
      },
      "source": [
        "T = int(input())\n",
        "for x in range(1, T + 1):\n",
        "    N, P = map(int, input().split())\n",
        "    S = map(int, input().split())\n",
        "    S = sorted(S, reverse = True)\n",
        "    y = hours = sum(S[0] - s for s in S[:P])\n",
        "    for i in range(1, N - P + 1):\n",
        "        hours -= (S[i - 1] - S[i]) * (P - 1)\n",
        "        hours += S[i] - S[P + i - 1]\n",
        "        if hours < y:\n",
        "            y = hours\n",
        "    print(\"Case #{}: {}\".format(x, y), flush = True)"
      ],
      "execution_count": 1,
      "outputs": [
        {
          "output_type": "stream",
          "name": "stdout",
          "text": [
            "3\n",
            "4 3\n",
            "3 1 9 100\n",
            "Case #1: 14\n",
            "6 2\n",
            "5 5 1 2 3 4\n",
            "Case #2: 0\n",
            "5 5\n",
            "7 7 1 7 7\n",
            "Case #3: 6\n"
          ]
        }
      ]
    },
    {
      "cell_type": "markdown",
      "metadata": {
        "id": "9mNzBWWiH-5h"
      },
      "source": [
        "# ***Thank you!!***"
      ]
    }
  ]
}